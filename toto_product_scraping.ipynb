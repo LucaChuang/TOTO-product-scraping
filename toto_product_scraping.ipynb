{
  "nbformat": 4,
  "nbformat_minor": 0,
  "metadata": {
    "colab": {
      "name": "toto_product_scraping.ipynb",
      "provenance": [],
      "collapsed_sections": [],
      "include_colab_link": true
    },
    "kernelspec": {
      "name": "python3",
      "display_name": "Python 3"
    }
  },
  "cells": [
    {
      "cell_type": "markdown",
      "metadata": {
        "id": "view-in-github",
        "colab_type": "text"
      },
      "source": [
        "<a href=\"https://colab.research.google.com/github/LucaChuang/TOTO-product-scraping/blob/main/toto_product_scraping.ipynb\" target=\"_parent\"><img src=\"https://colab.research.google.com/assets/colab-badge.svg\" alt=\"Open In Colab\"/></a>"
      ]
    },
    {
      "cell_type": "code",
      "metadata": {
        "colab": {
          "base_uri": "https://localhost:8080/"
        },
        "id": "JIp9wlCcyFOe",
        "outputId": "bfee8b6d-037f-40e5-873a-6b0f086aa151"
      },
      "source": [
        "from google.colab import drive\n",
        "drive.mount('/content/drive')"
      ],
      "execution_count": 1,
      "outputs": [
        {
          "output_type": "stream",
          "text": [
            "Drive already mounted at /content/drive; to attempt to forcibly remount, call drive.mount(\"/content/drive\", force_remount=True).\n"
          ],
          "name": "stdout"
        }
      ]
    },
    {
      "cell_type": "code",
      "metadata": {
        "id": "4dh0bQF-HEgw"
      },
      "source": [
        "import requests\n",
        "import time\n",
        "from bs4 import BeautifulSoup\n",
        "import pandas as pd\n",
        "import warnings\n",
        "import datetime\n",
        "import requests\n",
        "import pandas as pd\n",
        "import time\n",
        "import csv\n",
        "import io\n",
        "warnings.filterwarnings('ignore')"
      ],
      "execution_count": 2,
      "outputs": []
    },
    {
      "cell_type": "code",
      "metadata": {
        "id": "ooOI4pAUKq8o"
      },
      "source": [
        "headers={\n",
        "    'user-agent' : 'Mozilla/5.0 (Windows NT 10.0; Win64; x64) AppleWebKit/537.36 (KHTML, like Gecko) Chrome/84.0.4147.125 Safari/537.36'\n",
        "    }\n",
        "# res = requests.get('https://www.twtoto.com.tw/product-single.aspx?cid=11&mid=4&type=1&id=17&page=1', headers = headers)\n",
        "# res.encoding = 'utf-8'\n",
        "# res.text\n",
        "# bs = BeautifulSoup(res.text,'html.parser')"
      ],
      "execution_count": 3,
      "outputs": []
    },
    {
      "cell_type": "code",
      "metadata": {
        "id": "rmKUyEt3mDqY"
      },
      "source": [
        "def getData(url):\n",
        "    request_url= str(url).strip()\n",
        "    headers={\n",
        "    'user-agent' : 'Mozilla/5.0 (Windows NT 10.0; Win64; x64) AppleWebKit/537.36 (KHTML, like Gecko) Chrome/84.0.4147.125 Safari/537.36'\n",
        "    }\n",
        "    res=requests.get(request_url, headers = headers)\n",
        "    bs=BeautifulSoup(res.text,'html.parser')\n",
        "\n",
        "    if res.status_code == 200:\n",
        "        bs=BeautifulSoup(res.text,'html.parser')\n",
        "        #先宣告變數為NULL 若無撈到資料則寫入NULL\n",
        "        model='NULL'\n",
        "        prodtype='NULL'\n",
        "        price='NULL'\n",
        "\n",
        "\n",
        "        # 利用 beautfiulsoup 的 find function 利用 css selector 定位 並撈出指定資料\n",
        "        model = bs.find('div',{'class':'feature'}).findNext('h2').text\n",
        "        prodtype = bs.find('h3').text\n",
        "        price = bs.find('span',{'class':'price'}).text\n",
        "        price = price[4:]\n",
        "                \n",
        "        return model, prodtype, price\n",
        "    else:\n",
        "        print('link expired:', url)\n",
        "        return 404, 404, 404, 404, 404, 404, 404"
      ],
      "execution_count": 4,
      "outputs": []
    },
    {
      "cell_type": "code",
      "metadata": {
        "id": "fmBP37Ng0GkO"
      },
      "source": [
        "def getnote(url):\n",
        "    request_url= str(url).strip()\n",
        "    headers={\n",
        "    'user-agent' : 'Mozilla/5.0 (Windows NT 10.0; Win64; x64) AppleWebKit/537.36 (KHTML, like Gecko) Chrome/84.0.4147.125 Safari/537.36'\n",
        "    }\n",
        "    res=requests.get(request_url, headers = headers)\n",
        "    bs=BeautifulSoup(res.text,'html.parser')\n",
        "\n",
        "    if res.status_code == 200:\n",
        "        bs=BeautifulSoup(res.text,'html.parser')\n",
        "        #先宣告變數為NULL 若無撈到資料則寫入NULL\n",
        "        notes='NULL'\n",
        "\n",
        "        # 利用 beautfiulsoup 的 find function 利用 css selector 定位 並撈出指定資料\n",
        "        notes = bs.find('li', {'class':'full'}).findNext('span').text\n",
        "                \n",
        "        return notes\n",
        "    else:\n",
        "        print('link expired:', url)\n",
        "        return 404, 404, 404, 404, 404, 404, 404"
      ],
      "execution_count": 5,
      "outputs": []
    },
    {
      "cell_type": "code",
      "metadata": {
        "id": "JlADx7GTmrer"
      },
      "source": [
        "def main(outputfile, id, totalpages):\n",
        "\n",
        "    \n",
        "   \n",
        "   with io.open(outputfile, \"w\", encoding=\"utf-8\") as csvfile:\n",
        "        writer = csv.writer(csvfile)\n",
        "        writer.writerow([\"型號\", \"品名\", \"定價\", \"備註\", \"網址\"])\n",
        "        totalpages = totalpages\n",
        "        print('Total pages: ', totalpages)\n",
        "\n",
        "        for i in range(1, totalpages+1):\n",
        "            request_url = \"https://www.twtoto.com.tw/product-single.aspx?cid=11&mid=4&type=1&id=\"+str(id)+\"&page=\"+str(i)\n",
        "            res=requests.get(request_url, headers = headers)\n",
        "            bs=BeautifulSoup(res.text,'html.parser')\n",
        "            link_list = bs.find('div', id=\"product-list\").findAll('a')\n",
        "\n",
        "            url_list= [] #存放網址list\n",
        "            for link in link_list:\n",
        "              url = link.get('href')\n",
        "              url_list.append(url)\n",
        "              time.sleep(3)\n",
        "            #time.sleep(random.randint(5,10))\n",
        "\n",
        "            # ------------- write into csv ------------- #\n",
        "            for url in url_list:\n",
        "                model, prodtype, price = getData(url)\n",
        "                try:\n",
        "                  notes = getnote(url)\n",
        "                except:\n",
        "                  notes = \"Null\"\n",
        "                writer.writerow([model, prodtype, price, notes, str(url)])\n",
        "            # ------------------------------------------ #\n",
        "            print(i/totalpages*100, '%') # print out 完成 %數"
      ],
      "execution_count": 9,
      "outputs": []
    },
    {
      "cell_type": "code",
      "metadata": {
        "colab": {
          "base_uri": "https://localhost:8080/"
        },
        "id": "FN2A4iTl1YoM",
        "outputId": "5fd9d8a2-16ae-4009-c870-31eb70128b60"
      },
      "source": [
        "if __name__ == '__main__':\n",
        "    # -------- configurable parameter -------- #\n",
        "    # \n",
        "    # link:\n",
        "    id = 16           # 設定產品類別 (臉盆:16,淋浴:17,浴缸:18)\n",
        "    outputfile = '/content/drive/MyDrive/output'+str(id)+'.csv' #設定存放位置與檔名\n",
        "    totalpages = 5    # 設定產品頁數 (臉盆:5,淋浴:3,浴缸:2)\n",
        "    # ---------------------------------------- #\n",
        "\n",
        "    main(outputfile, id, totalpages)                                       #匯出csv檔\n",
        "    read_file = pd.read_csv(outputfile)\n",
        "    read_file.to_excel ('/content/drive/MyDrive/output'+str(id)+'.xlsx', index = None, header=True) #匯出excel檔\n",
        "    print('\\nfinish!')"
      ],
      "execution_count": 8,
      "outputs": [
        {
          "output_type": "stream",
          "text": [
            "Total pages:  5\n",
            "20.0 %\n",
            "40.0 %\n",
            "60.0 %\n",
            "80.0 %\n",
            "100.0 %\n",
            "\n",
            "finish!\n"
          ],
          "name": "stdout"
        }
      ]
    }
  ]
}